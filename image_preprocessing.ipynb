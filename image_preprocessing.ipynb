{
 "cells": [
  {
   "cell_type": "markdown",
   "metadata": {
    "toc": true
   },
   "source": [
    "<h1>Table of Contents<span class=\"tocSkip\"></span></h1>\n",
    "<div class=\"toc\"><ul class=\"toc-item\"><li><span><a href=\"#imports\" data-toc-modified-id=\"imports-1\"><span class=\"toc-item-num\">1&nbsp;&nbsp;</span>imports</a></span></li><li><span><a href=\"#methods\" data-toc-modified-id=\"methods-2\"><span class=\"toc-item-num\">2&nbsp;&nbsp;</span>methods</a></span></li><li><span><a href=\"#Data-processing\" data-toc-modified-id=\"Data-processing-3\"><span class=\"toc-item-num\">3&nbsp;&nbsp;</span>Data processing</a></span><ul class=\"toc-item\"><li><span><a href=\"#use-working-directory\" data-toc-modified-id=\"use-working-directory-3.1\"><span class=\"toc-item-num\">3.1&nbsp;&nbsp;</span>use working directory</a></span><ul class=\"toc-item\"><li><span><a href=\"#the-issue-has-been-resolved-in-the-beginning-of-the-model-notebook\" data-toc-modified-id=\"the-issue-has-been-resolved-in-the-beginning-of-the-model-notebook-3.1.1\"><span class=\"toc-item-num\">3.1.1&nbsp;&nbsp;</span>the issue has been resolved in the beginning of the model notebook</a></span></li></ul></li></ul></li></ul></div>"
   ]
  },
  {
   "cell_type": "markdown",
   "metadata": {},
   "source": [
    "# imports"
   ]
  },
  {
   "cell_type": "code",
   "execution_count": 3,
   "metadata": {},
   "outputs": [],
   "source": [
    "import keras\n",
    "import numpy as np\n",
    "import datetime\n",
    "\n",
    "from keras.preprocessing.image import ImageDataGenerator\n",
    "from collections import defaultdict\n",
    "from glob import glob\n",
    "from random import choice, sample\n",
    "\n",
    "# Florencia's imports\n",
    "import tensorflow\n",
    "from tensorflow.keras.layers import Input, Conv2D, Lambda, Dense, Flatten,MaxPooling2D,Activation, Dropout, BatchNormalization,  GlobalMaxPool2D, GlobalAvgPool2D, Concatenate, Subtract,Multiply\n",
    "from tensorflow.keras.models import Model, Sequential\n",
    "from tensorflow.keras.regularizers import l2\n",
    "from tensorflow.keras.optimizers import Adam\n",
    "from skimage.io import imshow\n",
    "import matplotlib.pyplot as plt\n",
    "import numpy as np\n",
    "import pandas as pd\n",
    "import random\n",
    "import cv2\n",
    "import os\n",
    "from os import listdir\n",
    "from tqdm import tqdm\n",
    "from tensorflow.keras.applications.resnet50 import preprocess_input\n",
    "from random import sample, choice\n",
    "\n",
    "from tensorflow.keras import layers\n",
    "from tensorflow.keras import preprocessing\n",
    "from tensorflow.keras import models\n",
    "from tensorflow.keras import optimizers\n",
    "from tensorflow.keras import backend as K\n"
   ]
  },
  {
   "cell_type": "markdown",
   "metadata": {},
   "source": [
    "# methods"
   ]
  },
  {
   "cell_type": "code",
   "execution_count": 4,
   "metadata": {},
   "outputs": [],
   "source": [
    "\n",
    "def euclidean_distance(vects): # Euc_dist between 2 vectors\n",
    "    x, y = vects\n",
    "    sum_square = K.sum(K.square(x - y), axis=1, keepdims=True)\n",
    "    return K.sqrt(K.maximum(sum_square, K.epsilon()))\n",
    "\n",
    "\n",
    "def eucl_dist_output_shape(shapes): # ?\n",
    "    shape1, shape2 = shapes\n",
    "    return (shape1[0], 1)\n",
    "\n",
    "\n",
    "def contrastive_loss(y_true, y_pred):\n",
    "    '''Contrastive loss from Hadsell-et-al.'06\n",
    "    http://yann.lecun.com/exdb/publis/pdf/hadsell-chopra-lecun-06.pdf\n",
    "    '''\n",
    "    margin = 1\n",
    "    square_pred = K.square(y_pred)\n",
    "    margin_square = K.square(K.maximum(margin - y_pred, 0))\n",
    "    return K.mean(y_true * square_pred + (1 - y_true) * margin_square)\n",
    "\n",
    "from keras.preprocessing.image import ImageDataGenerator\n",
    "from random import randint\n",
    "from random import uniform as rfloat\n",
    "def random_aug(img, img_gen):\n",
    "    transform_parameters = { # full transform params list @ keras image preprocessing documentation\n",
    "         'shear':randint(-8,8),\n",
    "        'zx':rfloat(0.9,1.0), \"zy\":rfloat(0.9,1.0), \n",
    "        'theta':randint(-20,20), \"flip_horizontal\":bool(random.getrandbits(1))}\n",
    "#     img_gen = ImageDataGenerator()\n",
    "    return img_gen.apply_transform(img, transform_parameters)\n",
    "\n",
    "def read_img(path): \n",
    "    img = cv2.imread(path)\n",
    "    img = np.array(img).astype(np.float)\n",
    "    return preprocess_input(img)\n",
    "def paths_to_arrays(paths_list):\n",
    "    out = []\n",
    "    for path in paths_list:\n",
    "        out.append(read_img(path))\n",
    "    return out"
   ]
  },
  {
   "cell_type": "code",
   "execution_count": null,
   "metadata": {},
   "outputs": [],
   "source": []
  },
  {
   "cell_type": "markdown",
   "metadata": {},
   "source": [
    "# Data processing"
   ]
  },
  {
   "cell_type": "markdown",
   "metadata": {},
   "source": [
    "## use working directory"
   ]
  },
  {
   "cell_type": "code",
   "execution_count": 5,
   "metadata": {},
   "outputs": [],
   "source": [
    "# my apologies for the hardcoding\n",
    "dir_path = '/Users/mark/Documents/flatiron/projects/love/teaching_robots_to_swipe/'\n",
    "train_part = 'UTKface/train/'\n",
    "val_part = 'UTKface/validation/'\n",
    "test_part = 'UTKface/test/'\n",
    "# no overlap between train, val, test imgs\n",
    "train_path = dir_path+train_part # 2008\n",
    "val_path = dir_path+val_part # 95\n",
    "test_path = dir_path+test_part # 155, distinct from val"
   ]
  },
  {
   "cell_type": "code",
   "execution_count": 6,
   "metadata": {},
   "outputs": [],
   "source": [
    "# get all files\n",
    "trains = glob(train_path + '*.jpg')\n",
    "tests = glob(test_path + '*.jpg')\n",
    "vals = glob(val_path + '*.jpg')\n",
    "# trains"
   ]
  },
  {
   "cell_type": "code",
   "execution_count": 7,
   "metadata": {},
   "outputs": [
    {
     "name": "stdout",
     "output_type": "stream",
     "text": [
      "/Users/mark/Documents/flatiron/projects/love/teaching_robots_to_swipe/UTKface/train/26_1_1_20170103181931657.jpg.chip.jpg\n",
      "/Users/mark/Documents/flatiron/projects/love/teaching_robots_to_swipe/UTKface/test/25_0_2_20170104192902767.jpg.chip.jpg\n",
      "/Users/mark/Documents/flatiron/projects/love/teaching_robots_to_swipe/UTKface/validation/35_1_0_20170103163453110.jpg.chip.jpg\n"
     ]
    }
   ],
   "source": [
    "print(trains[0])\n",
    "print(tests[0])\n",
    "print(vals[0])"
   ]
  },
  {
   "cell_type": "code",
   "execution_count": 8,
   "metadata": {},
   "outputs": [
    {
     "name": "stdout",
     "output_type": "stream",
     "text": [
      "2008 155 95\n"
     ]
    }
   ],
   "source": [
    "print(len(trains), len(tests), len(vals))"
   ]
  },
  {
   "cell_type": "code",
   "execution_count": 9,
   "metadata": {},
   "outputs": [],
   "source": [
    "train_data = paths_to_arrays(trains)\n",
    "test_data = paths_to_arrays(tests)\n",
    "val_data = paths_to_arrays(vals)"
   ]
  },
  {
   "cell_type": "code",
   "execution_count": 10,
   "metadata": {},
   "outputs": [
    {
     "data": {
      "text/plain": [
       "(2008, 200, 200, 3)"
      ]
     },
     "execution_count": 10,
     "metadata": {},
     "output_type": "execute_result"
    }
   ],
   "source": [
    "np.shape(train_data)"
   ]
  },
  {
   "cell_type": "code",
   "execution_count": 11,
   "metadata": {},
   "outputs": [
    {
     "data": {
      "text/plain": [
       "(155,)"
      ]
     },
     "execution_count": 11,
     "metadata": {},
     "output_type": "execute_result"
    }
   ],
   "source": [
    "np.shape(test_data) #why is test giving a vector instead of tensor? should be RGB"
   ]
  },
  {
   "cell_type": "code",
   "execution_count": 12,
   "metadata": {},
   "outputs": [
    {
     "data": {
      "text/plain": [
       "(95, 200, 200, 3)"
      ]
     },
     "execution_count": 12,
     "metadata": {},
     "output_type": "execute_result"
    }
   ],
   "source": [
    "np.shape(val_data) # they're all lists of arrays"
   ]
  },
  {
   "cell_type": "code",
   "execution_count": null,
   "metadata": {},
   "outputs": [],
   "source": []
  },
  {
   "cell_type": "code",
   "execution_count": 13,
   "metadata": {},
   "outputs": [
    {
     "data": {
      "text/plain": [
       "(155,)"
      ]
     },
     "execution_count": 13,
     "metadata": {},
     "output_type": "execute_result"
    }
   ],
   "source": [
    "np.shape(test_data) # a list of vectors..."
   ]
  },
  {
   "cell_type": "code",
   "execution_count": 14,
   "metadata": {},
   "outputs": [
    {
     "data": {
      "text/plain": [
       "(200, 200, 3)"
      ]
     },
     "execution_count": 14,
     "metadata": {},
     "output_type": "execute_result"
    }
   ],
   "source": [
    "np.shape(test_data[0]) # no, they're tensors. what foul sorcery is this?"
   ]
  },
  {
   "cell_type": "markdown",
   "metadata": {},
   "source": [
    "### the issue has been resolved in the beginning of the model notebook"
   ]
  },
  {
   "cell_type": "code",
   "execution_count": null,
   "metadata": {},
   "outputs": [],
   "source": []
  },
  {
   "cell_type": "code",
   "execution_count": null,
   "metadata": {},
   "outputs": [],
   "source": []
  },
  {
   "cell_type": "code",
   "execution_count": null,
   "metadata": {},
   "outputs": [],
   "source": []
  },
  {
   "cell_type": "code",
   "execution_count": null,
   "metadata": {},
   "outputs": [],
   "source": []
  },
  {
   "cell_type": "code",
   "execution_count": null,
   "metadata": {},
   "outputs": [],
   "source": []
  }
 ],
 "metadata": {
  "kernelspec": {
   "display_name": "Python 3",
   "language": "python",
   "name": "python3"
  },
  "language_info": {
   "codemirror_mode": {
    "name": "ipython",
    "version": 3
   },
   "file_extension": ".py",
   "mimetype": "text/x-python",
   "name": "python",
   "nbconvert_exporter": "python",
   "pygments_lexer": "ipython3",
   "version": "3.7.4"
  },
  "toc": {
   "base_numbering": 1,
   "nav_menu": {},
   "number_sections": true,
   "sideBar": true,
   "skip_h1_title": false,
   "title_cell": "Table of Contents",
   "title_sidebar": "Contents",
   "toc_cell": true,
   "toc_position": {},
   "toc_section_display": true,
   "toc_window_display": true
  }
 },
 "nbformat": 4,
 "nbformat_minor": 2
}
